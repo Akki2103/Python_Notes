{
 "cells": [
  {
   "cell_type": "markdown",
   "id": "db6602cc",
   "metadata": {},
   "source": [
    "# Basic Operations in Python"
   ]
  },
  {
   "cell_type": "code",
   "execution_count": 1,
   "id": "85da554a",
   "metadata": {
    "ExecuteTime": {
     "end_time": "2022-11-26T06:34:06.009712Z",
     "start_time": "2022-11-26T06:34:05.961624Z"
    }
   },
   "outputs": [
    {
     "name": "stdout",
     "output_type": "stream",
     "text": [
      "500\n"
     ]
    }
   ],
   "source": [
    "#variable\n",
    "a = 500 \n",
    "type(a)\n",
    "print(a)"
   ]
  },
  {
   "cell_type": "code",
   "execution_count": 2,
   "id": "1a4da98c",
   "metadata": {
    "ExecuteTime": {
     "end_time": "2022-11-26T06:34:51.699664Z",
     "start_time": "2022-11-26T06:34:51.684560Z"
    }
   },
   "outputs": [],
   "source": [
    "#Arithmetic Operators (+,-,*,/,%)"
   ]
  },
  {
   "cell_type": "code",
   "execution_count": 3,
   "id": "f6b499f6",
   "metadata": {
    "ExecuteTime": {
     "end_time": "2022-11-26T06:35:03.147831Z",
     "start_time": "2022-11-26T06:35:03.108375Z"
    }
   },
   "outputs": [
    {
     "data": {
      "text/plain": [
       "505"
      ]
     },
     "execution_count": 3,
     "metadata": {},
     "output_type": "execute_result"
    }
   ],
   "source": [
    "b = a+5\n",
    "b"
   ]
  },
  {
   "cell_type": "code",
   "execution_count": 4,
   "id": "473574c3",
   "metadata": {
    "ExecuteTime": {
     "end_time": "2022-11-26T06:35:08.960986Z",
     "start_time": "2022-11-26T06:35:08.940890Z"
    }
   },
   "outputs": [
    {
     "data": {
      "text/plain": [
       "500"
      ]
     },
     "execution_count": 4,
     "metadata": {},
     "output_type": "execute_result"
    }
   ],
   "source": [
    "b-5"
   ]
  },
  {
   "cell_type": "code",
   "execution_count": 5,
   "id": "d8ce019f",
   "metadata": {
    "ExecuteTime": {
     "end_time": "2022-11-26T06:35:34.468531Z",
     "start_time": "2022-11-26T06:35:34.444189Z"
    }
   },
   "outputs": [],
   "source": [
    "a = 10\n",
    "b = 20"
   ]
  },
  {
   "cell_type": "code",
   "execution_count": 6,
   "id": "d6f3acea",
   "metadata": {
    "ExecuteTime": {
     "end_time": "2022-11-26T06:35:41.311476Z",
     "start_time": "2022-11-26T06:35:41.286971Z"
    }
   },
   "outputs": [
    {
     "data": {
      "text/plain": [
       "False"
      ]
     },
     "execution_count": 6,
     "metadata": {},
     "output_type": "execute_result"
    }
   ],
   "source": [
    "a==b"
   ]
  },
  {
   "cell_type": "code",
   "execution_count": 7,
   "id": "1fd9acb0",
   "metadata": {
    "ExecuteTime": {
     "end_time": "2022-11-26T06:36:16.652634Z",
     "start_time": "2022-11-26T06:36:16.628531Z"
    }
   },
   "outputs": [
    {
     "data": {
      "text/plain": [
       "True"
      ]
     },
     "execution_count": 7,
     "metadata": {},
     "output_type": "execute_result"
    }
   ],
   "source": [
    "a!=b "
   ]
  },
  {
   "cell_type": "code",
   "execution_count": 8,
   "id": "f02809d6",
   "metadata": {
    "ExecuteTime": {
     "end_time": "2022-11-26T06:38:07.812423Z",
     "start_time": "2022-11-26T06:38:07.788453Z"
    }
   },
   "outputs": [
    {
     "data": {
      "text/plain": [
       "False"
      ]
     },
     "execution_count": 8,
     "metadata": {},
     "output_type": "execute_result"
    }
   ],
   "source": [
    "a>b"
   ]
  },
  {
   "cell_type": "code",
   "execution_count": 9,
   "id": "e8b2f9e4",
   "metadata": {
    "ExecuteTime": {
     "end_time": "2022-11-26T06:38:14.404405Z",
     "start_time": "2022-11-26T06:38:14.380147Z"
    }
   },
   "outputs": [
    {
     "data": {
      "text/plain": [
       "True"
      ]
     },
     "execution_count": 9,
     "metadata": {},
     "output_type": "execute_result"
    }
   ],
   "source": [
    "a<b"
   ]
  },
  {
   "cell_type": "code",
   "execution_count": 10,
   "id": "9f18436c",
   "metadata": {
    "ExecuteTime": {
     "end_time": "2022-11-26T06:38:43.989176Z",
     "start_time": "2022-11-26T06:38:43.964999Z"
    }
   },
   "outputs": [],
   "source": [
    "#Single Line Comment "
   ]
  },
  {
   "cell_type": "code",
   "execution_count": null,
   "id": "ad6395a6",
   "metadata": {},
   "outputs": [],
   "source": [
    "#sssssssss"
   ]
  },
  {
   "cell_type": "code",
   "execution_count": 11,
   "id": "a7643c47",
   "metadata": {
    "ExecuteTime": {
     "end_time": "2022-11-26T06:39:56.065152Z",
     "start_time": "2022-11-26T06:39:56.040949Z"
    }
   },
   "outputs": [],
   "source": [
    "#Multi-Line Comment"
   ]
  },
  {
   "cell_type": "code",
   "execution_count": null,
   "id": "e479f3d7",
   "metadata": {},
   "outputs": [],
   "source": [
    "''' This is just \n",
    "a note ashducccc '''"
   ]
  },
  {
   "cell_type": "markdown",
   "id": "fc8b105e",
   "metadata": {},
   "source": [
    "# Data Types in Python\n",
    "\n",
    "*  Integer \n",
    "*  Float\n",
    "*  String\n",
    "*  Boolean\n",
    "   "
   ]
  },
  {
   "cell_type": "code",
   "execution_count": 13,
   "id": "8a948a47",
   "metadata": {
    "ExecuteTime": {
     "end_time": "2022-11-26T06:43:21.376310Z",
     "start_time": "2022-11-26T06:43:21.359266Z"
    }
   },
   "outputs": [
    {
     "name": "stdout",
     "output_type": "stream",
     "text": [
      "<class 'int'>\n"
     ]
    }
   ],
   "source": [
    "#Integer\n",
    "\n",
    "a = 500\n",
    "print(type(a))"
   ]
  },
  {
   "cell_type": "code",
   "execution_count": 14,
   "id": "259bb3ce",
   "metadata": {
    "ExecuteTime": {
     "end_time": "2022-11-26T06:43:34.653697Z",
     "start_time": "2022-11-26T06:43:34.629437Z"
    }
   },
   "outputs": [],
   "source": [
    "f = 10.5"
   ]
  },
  {
   "cell_type": "code",
   "execution_count": 15,
   "id": "c89b7564",
   "metadata": {
    "ExecuteTime": {
     "end_time": "2022-11-26T06:43:41.079139Z",
     "start_time": "2022-11-26T06:43:41.063582Z"
    }
   },
   "outputs": [
    {
     "data": {
      "text/plain": [
       "float"
      ]
     },
     "execution_count": 15,
     "metadata": {},
     "output_type": "execute_result"
    }
   ],
   "source": [
    "type(f)"
   ]
  },
  {
   "cell_type": "code",
   "execution_count": 16,
   "id": "a11bb636",
   "metadata": {
    "ExecuteTime": {
     "end_time": "2022-11-26T06:44:25.852263Z",
     "start_time": "2022-11-26T06:44:25.836257Z"
    }
   },
   "outputs": [],
   "source": [
    "s = 'This is python class'\n",
    "s1 = \"This is python class\"\n",
    "s2 = '''This is python class'''"
   ]
  },
  {
   "cell_type": "code",
   "execution_count": 17,
   "id": "b8302bf7",
   "metadata": {
    "ExecuteTime": {
     "end_time": "2022-11-26T06:44:38.612747Z",
     "start_time": "2022-11-26T06:44:38.597571Z"
    }
   },
   "outputs": [
    {
     "data": {
      "text/plain": [
       "True"
      ]
     },
     "execution_count": 17,
     "metadata": {},
     "output_type": "execute_result"
    }
   ],
   "source": [
    "s1==s2"
   ]
  },
  {
   "cell_type": "code",
   "execution_count": 18,
   "id": "cf16f822",
   "metadata": {
    "ExecuteTime": {
     "end_time": "2022-11-26T06:45:02.106908Z",
     "start_time": "2022-11-26T06:45:02.090651Z"
    }
   },
   "outputs": [
    {
     "ename": "SyntaxError",
     "evalue": "invalid syntax (4115986485.py, line 1)",
     "output_type": "error",
     "traceback": [
      "\u001b[1;36m  File \u001b[1;32m\"C:\\Users\\sanke\\AppData\\Local\\Temp\\ipykernel_11964\\4115986485.py\"\u001b[1;36m, line \u001b[1;32m1\u001b[0m\n\u001b[1;33m    d = \"It\"s a notebook\u001b[0m\n\u001b[1;37m            ^\u001b[0m\n\u001b[1;31mSyntaxError\u001b[0m\u001b[1;31m:\u001b[0m invalid syntax\n"
     ]
    }
   ],
   "source": [
    "d = \"It\"s a notebook"
   ]
  },
  {
   "cell_type": "code",
   "execution_count": 19,
   "id": "5605d62e",
   "metadata": {
    "ExecuteTime": {
     "end_time": "2022-11-26T06:45:20.355879Z",
     "start_time": "2022-11-26T06:45:20.339884Z"
    }
   },
   "outputs": [],
   "source": [
    "d = \"it's a notebook\""
   ]
  },
  {
   "cell_type": "code",
   "execution_count": null,
   "id": "da48006b",
   "metadata": {},
   "outputs": [],
   "source": []
  },
  {
   "cell_type": "code",
   "execution_count": 20,
   "id": "ccb2669e",
   "metadata": {
    "ExecuteTime": {
     "end_time": "2022-11-26T06:45:55.623084Z",
     "start_time": "2022-11-26T06:45:55.607517Z"
    }
   },
   "outputs": [],
   "source": [
    "# Title : esc + 1\n",
    "# Markdown : esc + m"
   ]
  },
  {
   "cell_type": "markdown",
   "id": "016b4c97",
   "metadata": {},
   "source": [
    "# Typecasting\n",
    "* Typecasting is used to change the Data Types"
   ]
  },
  {
   "cell_type": "code",
   "execution_count": 21,
   "id": "edde55e5",
   "metadata": {
    "ExecuteTime": {
     "end_time": "2022-11-26T06:46:55.577207Z",
     "start_time": "2022-11-26T06:46:55.543933Z"
    }
   },
   "outputs": [
    {
     "data": {
      "text/plain": [
       "float"
      ]
     },
     "execution_count": 21,
     "metadata": {},
     "output_type": "execute_result"
    }
   ],
   "source": [
    "a = 10.8\n",
    "type(a)"
   ]
  },
  {
   "cell_type": "code",
   "execution_count": 23,
   "id": "3e3b501e",
   "metadata": {
    "ExecuteTime": {
     "end_time": "2022-11-26T06:48:08.580679Z",
     "start_time": "2022-11-26T06:48:08.556423Z"
    }
   },
   "outputs": [
    {
     "data": {
      "text/plain": [
       "10.8"
      ]
     },
     "execution_count": 23,
     "metadata": {},
     "output_type": "execute_result"
    }
   ],
   "source": [
    "a "
   ]
  },
  {
   "cell_type": "code",
   "execution_count": 24,
   "id": "c19a178c",
   "metadata": {
    "ExecuteTime": {
     "end_time": "2022-11-26T06:48:23.048987Z",
     "start_time": "2022-11-26T06:48:23.024763Z"
    }
   },
   "outputs": [
    {
     "data": {
      "text/plain": [
       "int"
      ]
     },
     "execution_count": 24,
     "metadata": {},
     "output_type": "execute_result"
    }
   ],
   "source": [
    "a = int(a)\n",
    "type(a)"
   ]
  },
  {
   "cell_type": "code",
   "execution_count": 26,
   "id": "6315af15",
   "metadata": {
    "ExecuteTime": {
     "end_time": "2022-11-26T06:49:08.555280Z",
     "start_time": "2022-11-26T06:49:08.530809Z"
    }
   },
   "outputs": [
    {
     "name": "stdout",
     "output_type": "stream",
     "text": [
      "<class 'str'>\n",
      "10\n"
     ]
    }
   ],
   "source": [
    "a = str(a)\n",
    "\n",
    "print(type(a))\n",
    "print(a)"
   ]
  },
  {
   "cell_type": "code",
   "execution_count": 27,
   "id": "22bc7937",
   "metadata": {
    "ExecuteTime": {
     "end_time": "2022-11-26T06:49:17.784088Z",
     "start_time": "2022-11-26T06:49:17.773636Z"
    }
   },
   "outputs": [],
   "source": [
    "k = 10"
   ]
  },
  {
   "cell_type": "code",
   "execution_count": 28,
   "id": "4ab08210",
   "metadata": {
    "ExecuteTime": {
     "end_time": "2022-11-26T06:49:34.646977Z",
     "start_time": "2022-11-26T06:49:34.622682Z"
    }
   },
   "outputs": [
    {
     "data": {
      "text/plain": [
       "10.0"
      ]
     },
     "execution_count": 28,
     "metadata": {},
     "output_type": "execute_result"
    }
   ],
   "source": [
    "float(k)"
   ]
  },
  {
   "cell_type": "code",
   "execution_count": 29,
   "id": "783703e5",
   "metadata": {
    "ExecuteTime": {
     "end_time": "2022-11-26T06:49:49.772936Z",
     "start_time": "2022-11-26T06:49:49.741093Z"
    }
   },
   "outputs": [
    {
     "data": {
      "text/plain": [
       "'10'"
      ]
     },
     "execution_count": 29,
     "metadata": {},
     "output_type": "execute_result"
    }
   ],
   "source": [
    "a"
   ]
  },
  {
   "cell_type": "code",
   "execution_count": 30,
   "id": "100f5aad",
   "metadata": {
    "ExecuteTime": {
     "end_time": "2022-11-26T06:49:54.966161Z",
     "start_time": "2022-11-26T06:49:54.934800Z"
    }
   },
   "outputs": [
    {
     "data": {
      "text/plain": [
       "'10'"
      ]
     },
     "execution_count": 30,
     "metadata": {},
     "output_type": "execute_result"
    }
   ],
   "source": [
    "a"
   ]
  },
  {
   "cell_type": "code",
   "execution_count": 31,
   "id": "1faa5dac",
   "metadata": {
    "ExecuteTime": {
     "end_time": "2022-11-26T06:50:00.797398Z",
     "start_time": "2022-11-26T06:50:00.773137Z"
    }
   },
   "outputs": [],
   "source": [
    "b = 500"
   ]
  },
  {
   "cell_type": "code",
   "execution_count": 32,
   "id": "545d47f7",
   "metadata": {
    "ExecuteTime": {
     "end_time": "2022-11-26T06:50:06.989236Z",
     "start_time": "2022-11-26T06:50:06.974533Z"
    }
   },
   "outputs": [
    {
     "data": {
      "text/plain": [
       "True"
      ]
     },
     "execution_count": 32,
     "metadata": {},
     "output_type": "execute_result"
    }
   ],
   "source": [
    "bool(b)"
   ]
  },
  {
   "cell_type": "code",
   "execution_count": 33,
   "id": "055d7c5f",
   "metadata": {
    "ExecuteTime": {
     "end_time": "2022-11-26T06:50:19.612751Z",
     "start_time": "2022-11-26T06:50:19.601696Z"
    }
   },
   "outputs": [],
   "source": [
    "z = 0"
   ]
  },
  {
   "cell_type": "code",
   "execution_count": 34,
   "id": "1d382e95",
   "metadata": {
    "ExecuteTime": {
     "end_time": "2022-11-26T06:50:27.657840Z",
     "start_time": "2022-11-26T06:50:27.641848Z"
    }
   },
   "outputs": [
    {
     "data": {
      "text/plain": [
       "False"
      ]
     },
     "execution_count": 34,
     "metadata": {},
     "output_type": "execute_result"
    }
   ],
   "source": [
    "bool(z)"
   ]
  },
  {
   "cell_type": "code",
   "execution_count": 35,
   "id": "f2349538",
   "metadata": {
    "ExecuteTime": {
     "end_time": "2022-11-26T06:52:03.996809Z",
     "start_time": "2022-11-26T06:52:03.972407Z"
    }
   },
   "outputs": [],
   "source": [
    "#We can convert any type of values to bool type, and the output for all values will be True,\n",
    "#Except 0, Which is False"
   ]
  },
  {
   "cell_type": "markdown",
   "id": "6428830b",
   "metadata": {},
   "source": [
    "# String Metods"
   ]
  },
  {
   "cell_type": "code",
   "execution_count": 36,
   "id": "26fe5a30",
   "metadata": {
    "ExecuteTime": {
     "end_time": "2022-11-26T06:53:06.297173Z",
     "start_time": "2022-11-26T06:53:06.272933Z"
    }
   },
   "outputs": [],
   "source": [
    "#Create String\n",
    "s = 'we are learning python'"
   ]
  },
  {
   "cell_type": "code",
   "execution_count": 37,
   "id": "345c7d79",
   "metadata": {
    "ExecuteTime": {
     "end_time": "2022-11-26T06:53:18.511628Z",
     "start_time": "2022-11-26T06:53:18.487289Z"
    }
   },
   "outputs": [
    {
     "data": {
      "text/plain": [
       "'We are learning python'"
      ]
     },
     "execution_count": 37,
     "metadata": {},
     "output_type": "execute_result"
    }
   ],
   "source": [
    "s.capitalize()"
   ]
  },
  {
   "cell_type": "code",
   "execution_count": 38,
   "id": "ff876ab8",
   "metadata": {
    "ExecuteTime": {
     "end_time": "2022-11-26T06:53:31.067776Z",
     "start_time": "2022-11-26T06:53:31.051361Z"
    }
   },
   "outputs": [],
   "source": [
    "a = \"It's a laptop\""
   ]
  },
  {
   "cell_type": "code",
   "execution_count": 39,
   "id": "3e7ff699",
   "metadata": {
    "ExecuteTime": {
     "end_time": "2022-11-26T06:53:49.902208Z",
     "start_time": "2022-11-26T06:53:49.877879Z"
    }
   },
   "outputs": [],
   "source": [
    "b = 'It\"s a laptop'"
   ]
  },
  {
   "cell_type": "code",
   "execution_count": 40,
   "id": "aa1b897e",
   "metadata": {
    "ExecuteTime": {
     "end_time": "2022-11-26T06:53:58.782733Z",
     "start_time": "2022-11-26T06:53:58.766712Z"
    }
   },
   "outputs": [
    {
     "data": {
      "text/plain": [
       "False"
      ]
     },
     "execution_count": 40,
     "metadata": {},
     "output_type": "execute_result"
    }
   ],
   "source": [
    "a==b"
   ]
  },
  {
   "cell_type": "code",
   "execution_count": 41,
   "id": "d7f69573",
   "metadata": {
    "ExecuteTime": {
     "end_time": "2022-11-26T06:54:03.394239Z",
     "start_time": "2022-11-26T06:54:03.370774Z"
    }
   },
   "outputs": [
    {
     "data": {
      "text/plain": [
       "'we are learning python'"
      ]
     },
     "execution_count": 41,
     "metadata": {},
     "output_type": "execute_result"
    }
   ],
   "source": [
    "s"
   ]
  },
  {
   "cell_type": "code",
   "execution_count": 42,
   "id": "6a820d9f",
   "metadata": {
    "ExecuteTime": {
     "end_time": "2022-11-26T06:55:05.547464Z",
     "start_time": "2022-11-26T06:55:05.523072Z"
    }
   },
   "outputs": [
    {
     "data": {
      "text/plain": [
       "'We are learning python'"
      ]
     },
     "execution_count": 42,
     "metadata": {},
     "output_type": "execute_result"
    }
   ],
   "source": [
    "s.capitalize()"
   ]
  },
  {
   "cell_type": "code",
   "execution_count": 43,
   "id": "f4b52ee6",
   "metadata": {
    "ExecuteTime": {
     "end_time": "2022-11-26T06:55:10.771335Z",
     "start_time": "2022-11-26T06:55:10.755084Z"
    }
   },
   "outputs": [
    {
     "data": {
      "text/plain": [
       "'we are learning python'"
      ]
     },
     "execution_count": 43,
     "metadata": {},
     "output_type": "execute_result"
    }
   ],
   "source": [
    "s"
   ]
  },
  {
   "cell_type": "code",
   "execution_count": 44,
   "id": "fe0fb41c",
   "metadata": {
    "ExecuteTime": {
     "end_time": "2022-11-26T06:55:29.570984Z",
     "start_time": "2022-11-26T06:55:29.539030Z"
    }
   },
   "outputs": [
    {
     "data": {
      "text/plain": [
       "1"
      ]
     },
     "execution_count": 44,
     "metadata": {},
     "output_type": "execute_result"
    }
   ],
   "source": [
    "s.count('i')"
   ]
  },
  {
   "cell_type": "code",
   "execution_count": 45,
   "id": "b0200939",
   "metadata": {
    "ExecuteTime": {
     "end_time": "2022-11-26T06:55:41.495304Z",
     "start_time": "2022-11-26T06:55:41.471137Z"
    }
   },
   "outputs": [
    {
     "data": {
      "text/plain": [
       "3"
      ]
     },
     "execution_count": 45,
     "metadata": {},
     "output_type": "execute_result"
    }
   ],
   "source": [
    "s.count('e')"
   ]
  },
  {
   "cell_type": "code",
   "execution_count": 46,
   "id": "6831883f",
   "metadata": {
    "ExecuteTime": {
     "end_time": "2022-11-26T06:55:54.600499Z",
     "start_time": "2022-11-26T06:55:54.584472Z"
    }
   },
   "outputs": [
    {
     "data": {
      "text/plain": [
       "'we are learning python'"
      ]
     },
     "execution_count": 46,
     "metadata": {},
     "output_type": "execute_result"
    }
   ],
   "source": [
    "s"
   ]
  },
  {
   "cell_type": "code",
   "execution_count": 47,
   "id": "d0976ab2",
   "metadata": {
    "ExecuteTime": {
     "end_time": "2022-11-26T06:56:06.189438Z",
     "start_time": "2022-11-26T06:56:06.156976Z"
    }
   },
   "outputs": [
    {
     "data": {
      "text/plain": [
       "False"
      ]
     },
     "execution_count": 47,
     "metadata": {},
     "output_type": "execute_result"
    }
   ],
   "source": [
    "s.endswith('N')"
   ]
  },
  {
   "cell_type": "code",
   "execution_count": 48,
   "id": "cb277e46",
   "metadata": {
    "ExecuteTime": {
     "end_time": "2022-11-26T06:56:15.761419Z",
     "start_time": "2022-11-26T06:56:15.745434Z"
    }
   },
   "outputs": [
    {
     "data": {
      "text/plain": [
       "True"
      ]
     },
     "execution_count": 48,
     "metadata": {},
     "output_type": "execute_result"
    }
   ],
   "source": [
    "s.endswith('n')"
   ]
  },
  {
   "cell_type": "code",
   "execution_count": 49,
   "id": "e60616d7",
   "metadata": {
    "ExecuteTime": {
     "end_time": "2022-11-26T06:56:34.359992Z",
     "start_time": "2022-11-26T06:56:34.335342Z"
    }
   },
   "outputs": [
    {
     "data": {
      "text/plain": [
       "'we are learning python'"
      ]
     },
     "execution_count": 49,
     "metadata": {},
     "output_type": "execute_result"
    }
   ],
   "source": [
    "s"
   ]
  },
  {
   "cell_type": "code",
   "execution_count": 50,
   "id": "9a41730d",
   "metadata": {
    "ExecuteTime": {
     "end_time": "2022-11-26T06:57:02.361536Z",
     "start_time": "2022-11-26T06:57:02.329630Z"
    }
   },
   "outputs": [
    {
     "data": {
      "text/plain": [
       "3"
      ]
     },
     "execution_count": 50,
     "metadata": {},
     "output_type": "execute_result"
    }
   ],
   "source": [
    "s.find('are')"
   ]
  },
  {
   "cell_type": "code",
   "execution_count": 51,
   "id": "89241f1a",
   "metadata": {
    "ExecuteTime": {
     "end_time": "2022-11-26T06:57:22.996058Z",
     "start_time": "2022-11-26T06:57:22.979567Z"
    }
   },
   "outputs": [],
   "source": [
    "s = 'We are learning python'"
   ]
  },
  {
   "cell_type": "code",
   "execution_count": 52,
   "id": "dc05f12d",
   "metadata": {
    "ExecuteTime": {
     "end_time": "2022-11-26T06:57:31.802648Z",
     "start_time": "2022-11-26T06:57:31.778556Z"
    }
   },
   "outputs": [
    {
     "data": {
      "text/plain": [
       "16"
      ]
     },
     "execution_count": 52,
     "metadata": {},
     "output_type": "execute_result"
    }
   ],
   "source": [
    "s.index('p')"
   ]
  },
  {
   "cell_type": "code",
   "execution_count": 53,
   "id": "66621a07",
   "metadata": {
    "ExecuteTime": {
     "end_time": "2022-11-26T06:57:41.600123Z",
     "start_time": "2022-11-26T06:57:41.583726Z"
    }
   },
   "outputs": [
    {
     "data": {
      "text/plain": [
       "False"
      ]
     },
     "execution_count": 53,
     "metadata": {},
     "output_type": "execute_result"
    }
   ],
   "source": [
    "s.islower()"
   ]
  },
  {
   "cell_type": "code",
   "execution_count": 54,
   "id": "891f0de3",
   "metadata": {
    "ExecuteTime": {
     "end_time": "2022-11-26T06:57:54.787680Z",
     "start_time": "2022-11-26T06:57:54.763424Z"
    }
   },
   "outputs": [
    {
     "data": {
      "text/plain": [
       "'W#e# #a#r#e# #l#e#a#r#n#i#n#g# #p#y#t#h#o#n'"
      ]
     },
     "execution_count": 54,
     "metadata": {},
     "output_type": "execute_result"
    }
   ],
   "source": [
    "'#'.join(s)"
   ]
  },
  {
   "cell_type": "code",
   "execution_count": 55,
   "id": "667e1ed0",
   "metadata": {
    "ExecuteTime": {
     "end_time": "2022-11-26T06:58:07.622768Z",
     "start_time": "2022-11-26T06:58:07.606686Z"
    }
   },
   "outputs": [
    {
     "data": {
      "text/plain": [
       "'We are learning python'"
      ]
     },
     "execution_count": 55,
     "metadata": {},
     "output_type": "execute_result"
    }
   ],
   "source": [
    "s"
   ]
  },
  {
   "cell_type": "code",
   "execution_count": 57,
   "id": "18d56029",
   "metadata": {
    "ExecuteTime": {
     "end_time": "2022-11-26T06:58:34.491675Z",
     "start_time": "2022-11-26T06:58:34.476156Z"
    }
   },
   "outputs": [],
   "source": [
    "s = s.replace(' ','-')"
   ]
  },
  {
   "cell_type": "code",
   "execution_count": 58,
   "id": "73fedbe1",
   "metadata": {
    "ExecuteTime": {
     "end_time": "2022-11-26T06:58:58.315849Z",
     "start_time": "2022-11-26T06:58:58.292080Z"
    }
   },
   "outputs": [
    {
     "data": {
      "text/plain": [
       "'We-are-learning-python'"
      ]
     },
     "execution_count": 58,
     "metadata": {},
     "output_type": "execute_result"
    }
   ],
   "source": [
    "s"
   ]
  },
  {
   "cell_type": "code",
   "execution_count": 59,
   "id": "56d8aa36",
   "metadata": {
    "ExecuteTime": {
     "end_time": "2022-11-26T06:59:29.700208Z",
     "start_time": "2022-11-26T06:59:29.683445Z"
    }
   },
   "outputs": [
    {
     "data": {
      "text/plain": [
       "'They-are-learning-python'"
      ]
     },
     "execution_count": 59,
     "metadata": {},
     "output_type": "execute_result"
    }
   ],
   "source": [
    "s.replace('We','They')"
   ]
  },
  {
   "cell_type": "code",
   "execution_count": 60,
   "id": "5982d0c8",
   "metadata": {
    "ExecuteTime": {
     "end_time": "2022-11-26T06:59:45.604415Z",
     "start_time": "2022-11-26T06:59:45.588135Z"
    }
   },
   "outputs": [],
   "source": [
    "s = s.replace('_','#')"
   ]
  },
  {
   "cell_type": "code",
   "execution_count": 61,
   "id": "e040e533",
   "metadata": {
    "ExecuteTime": {
     "end_time": "2022-11-26T06:59:50.753625Z",
     "start_time": "2022-11-26T06:59:50.729299Z"
    }
   },
   "outputs": [
    {
     "data": {
      "text/plain": [
       "'We-are-learning-python'"
      ]
     },
     "execution_count": 61,
     "metadata": {},
     "output_type": "execute_result"
    }
   ],
   "source": [
    "s"
   ]
  },
  {
   "cell_type": "code",
   "execution_count": 62,
   "id": "5e968293",
   "metadata": {
    "ExecuteTime": {
     "end_time": "2022-11-26T07:00:09.848860Z",
     "start_time": "2022-11-26T07:00:09.836760Z"
    }
   },
   "outputs": [],
   "source": [
    "s = 'We/are/learning/python'"
   ]
  },
  {
   "cell_type": "code",
   "execution_count": 66,
   "id": "8d769fb5",
   "metadata": {
    "ExecuteTime": {
     "end_time": "2022-11-26T07:01:50.953505Z",
     "start_time": "2022-11-26T07:01:50.929586Z"
    }
   },
   "outputs": [
    {
     "data": {
      "text/plain": [
       "['We', 'are', 'learning', 'python']"
      ]
     },
     "execution_count": 66,
     "metadata": {},
     "output_type": "execute_result"
    }
   ],
   "source": [
    "s.split('/')"
   ]
  },
  {
   "cell_type": "code",
   "execution_count": 85,
   "id": "ae46d1a6",
   "metadata": {
    "ExecuteTime": {
     "end_time": "2022-11-26T07:19:41.200275Z",
     "start_time": "2022-11-26T07:19:41.175563Z"
    }
   },
   "outputs": [
    {
     "data": {
      "text/plain": [
       "['We are learning python']"
      ]
     },
     "execution_count": 85,
     "metadata": {},
     "output_type": "execute_result"
    }
   ],
   "source": [
    "s.split('#')"
   ]
  },
  {
   "cell_type": "code",
   "execution_count": 68,
   "id": "fd462a2d",
   "metadata": {
    "ExecuteTime": {
     "end_time": "2022-11-26T07:02:20.274215Z",
     "start_time": "2022-11-26T07:02:20.257551Z"
    }
   },
   "outputs": [],
   "source": [
    "q = 'abc@gmail.com'"
   ]
  },
  {
   "cell_type": "code",
   "execution_count": 69,
   "id": "18b2a0ef",
   "metadata": {
    "ExecuteTime": {
     "end_time": "2022-11-26T07:02:29.884173Z",
     "start_time": "2022-11-26T07:02:29.852921Z"
    }
   },
   "outputs": [
    {
     "data": {
      "text/plain": [
       "['abc', 'gmail.com']"
      ]
     },
     "execution_count": 69,
     "metadata": {},
     "output_type": "execute_result"
    }
   ],
   "source": [
    "q.split('@')"
   ]
  },
  {
   "cell_type": "code",
   "execution_count": 70,
   "id": "f8760678",
   "metadata": {
    "ExecuteTime": {
     "end_time": "2022-11-26T07:02:36.769599Z",
     "start_time": "2022-11-26T07:02:36.745586Z"
    }
   },
   "outputs": [
    {
     "data": {
      "text/plain": [
       "'We/are/learning/python'"
      ]
     },
     "execution_count": 70,
     "metadata": {},
     "output_type": "execute_result"
    }
   ],
   "source": [
    "s"
   ]
  },
  {
   "cell_type": "code",
   "execution_count": 72,
   "id": "45c12d1b",
   "metadata": {
    "ExecuteTime": {
     "end_time": "2022-11-26T07:03:41.517244Z",
     "start_time": "2022-11-26T07:03:41.485725Z"
    }
   },
   "outputs": [
    {
     "data": {
      "text/plain": [
       "'We are learning python'"
      ]
     },
     "execution_count": 72,
     "metadata": {},
     "output_type": "execute_result"
    }
   ],
   "source": [
    "s = 'We are learning python'\n",
    "s"
   ]
  },
  {
   "cell_type": "code",
   "execution_count": 73,
   "id": "ca48c620",
   "metadata": {
    "ExecuteTime": {
     "end_time": "2022-11-26T07:03:57.883715Z",
     "start_time": "2022-11-26T07:03:57.852039Z"
    }
   },
   "outputs": [
    {
     "data": {
      "text/plain": [
       "'wE ARE LEARNING PYTHON'"
      ]
     },
     "execution_count": 73,
     "metadata": {},
     "output_type": "execute_result"
    }
   ],
   "source": [
    "s.swapcase()"
   ]
  },
  {
   "cell_type": "code",
   "execution_count": 82,
   "id": "3534a4f1",
   "metadata": {
    "ExecuteTime": {
     "end_time": "2022-11-26T07:18:53.566854Z",
     "start_time": "2022-11-26T07:18:53.542045Z"
    }
   },
   "outputs": [
    {
     "data": {
      "text/plain": [
       "'WE ARE LEARNING PYTHON'"
      ]
     },
     "execution_count": 82,
     "metadata": {},
     "output_type": "execute_result"
    }
   ],
   "source": [
    "s.upper()"
   ]
  },
  {
   "cell_type": "code",
   "execution_count": 83,
   "id": "5cfac9a7",
   "metadata": {
    "ExecuteTime": {
     "end_time": "2022-11-26T07:19:03.283405Z",
     "start_time": "2022-11-26T07:19:03.258677Z"
    }
   },
   "outputs": [
    {
     "data": {
      "text/plain": [
       "'we are learning python'"
      ]
     },
     "execution_count": 83,
     "metadata": {},
     "output_type": "execute_result"
    }
   ],
   "source": [
    "s.lower()"
   ]
  },
  {
   "cell_type": "code",
   "execution_count": 84,
   "id": "83948a7e",
   "metadata": {
    "ExecuteTime": {
     "end_time": "2022-11-26T07:19:08.355850Z",
     "start_time": "2022-11-26T07:19:08.332289Z"
    }
   },
   "outputs": [
    {
     "data": {
      "text/plain": [
       "'We Are Learning Python'"
      ]
     },
     "execution_count": 84,
     "metadata": {},
     "output_type": "execute_result"
    }
   ],
   "source": [
    "s.title()"
   ]
  },
  {
   "cell_type": "code",
   "execution_count": null,
   "id": "dc125d84",
   "metadata": {},
   "outputs": [],
   "source": []
  }
 ],
 "metadata": {
  "_draft": {
   "nbviewer_url": "https://gist.github.com/9885698014e2a9dd90455f8f94673890"
  },
  "gist": {
   "data": {
    "description": "python_project/Day_2.ipynb",
    "public": true
   },
   "id": "9885698014e2a9dd90455f8f94673890"
  },
  "kernelspec": {
   "display_name": "Python 3 (ipykernel)",
   "language": "python",
   "name": "python3"
  },
  "language_info": {
   "codemirror_mode": {
    "name": "ipython",
    "version": 3
   },
   "file_extension": ".py",
   "mimetype": "text/x-python",
   "name": "python",
   "nbconvert_exporter": "python",
   "pygments_lexer": "ipython3",
   "version": "3.9.13"
  }
 },
 "nbformat": 4,
 "nbformat_minor": 5
}
