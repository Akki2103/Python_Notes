{
 "cells": [
  {
   "cell_type": "markdown",
   "id": "d2466072",
   "metadata": {},
   "source": [
    "# Data Structures\n",
    "\n",
    "###### 1.Lists\n",
    "###### 2.Tuple\n",
    "###### 3.Dictionary\n",
    "###### 4.Sets\n",
    "\n",
    "## 1. Lists\n",
    "\n",
    "* Lists are the built in data strucutres in python.\n",
    "* Lists are heterogenous data strucutre.\n",
    "* Lists are mutable."
   ]
  },
  {
   "cell_type": "code",
   "execution_count": 101,
   "id": "a13f525a",
   "metadata": {
    "ExecuteTime": {
     "end_time": "2022-11-26T12:44:29.493045Z",
     "start_time": "2022-11-26T12:44:29.477056Z"
    }
   },
   "outputs": [],
   "source": [
    "#Creating Lists"
   ]
  },
  {
   "cell_type": "code",
   "execution_count": 102,
   "id": "41de7f95",
   "metadata": {
    "ExecuteTime": {
     "end_time": "2022-11-26T12:44:29.509076Z",
     "start_time": "2022-11-26T12:44:29.493045Z"
    }
   },
   "outputs": [],
   "source": [
    "lst = []"
   ]
  },
  {
   "cell_type": "code",
   "execution_count": 103,
   "id": "99ad0ff3",
   "metadata": {
    "ExecuteTime": {
     "end_time": "2022-11-26T12:44:29.524500Z",
     "start_time": "2022-11-26T12:44:29.511405Z"
    }
   },
   "outputs": [
    {
     "data": {
      "text/plain": [
       "list"
      ]
     },
     "execution_count": 103,
     "metadata": {},
     "output_type": "execute_result"
    }
   ],
   "source": [
    "type(lst)"
   ]
  },
  {
   "cell_type": "code",
   "execution_count": 104,
   "id": "5131ad22",
   "metadata": {
    "ExecuteTime": {
     "end_time": "2022-11-26T12:44:29.537558Z",
     "start_time": "2022-11-26T12:44:29.525510Z"
    }
   },
   "outputs": [],
   "source": [
    "lst = [10,10.5,True,'Hello']"
   ]
  },
  {
   "cell_type": "code",
   "execution_count": 105,
   "id": "a393bd8c",
   "metadata": {
    "ExecuteTime": {
     "end_time": "2022-11-26T12:44:29.549581Z",
     "start_time": "2022-11-26T12:44:29.537558Z"
    }
   },
   "outputs": [
    {
     "data": {
      "text/plain": [
       "[10, 10.5, True, 'Hello']"
      ]
     },
     "execution_count": 105,
     "metadata": {},
     "output_type": "execute_result"
    }
   ],
   "source": [
    "lst"
   ]
  },
  {
   "cell_type": "code",
   "execution_count": 106,
   "id": "9b1fd372",
   "metadata": {
    "ExecuteTime": {
     "end_time": "2022-11-26T12:44:29.573770Z",
     "start_time": "2022-11-26T12:44:29.549581Z"
    }
   },
   "outputs": [
    {
     "data": {
      "text/plain": [
       "list"
      ]
     },
     "execution_count": 106,
     "metadata": {},
     "output_type": "execute_result"
    }
   ],
   "source": [
    "type(lst)"
   ]
  },
  {
   "cell_type": "code",
   "execution_count": 107,
   "id": "633ada88",
   "metadata": {
    "ExecuteTime": {
     "end_time": "2022-11-26T12:44:29.586104Z",
     "start_time": "2022-11-26T12:44:29.573770Z"
    }
   },
   "outputs": [],
   "source": [
    "lst1 = list()"
   ]
  },
  {
   "cell_type": "code",
   "execution_count": 108,
   "id": "420b9d36",
   "metadata": {
    "ExecuteTime": {
     "end_time": "2022-11-26T12:44:29.606405Z",
     "start_time": "2022-11-26T12:44:29.587438Z"
    }
   },
   "outputs": [
    {
     "data": {
      "text/plain": [
       "list"
      ]
     },
     "execution_count": 108,
     "metadata": {},
     "output_type": "execute_result"
    }
   ],
   "source": [
    "type(lst1)"
   ]
  },
  {
   "cell_type": "code",
   "execution_count": 109,
   "id": "8ce457aa",
   "metadata": {
    "ExecuteTime": {
     "end_time": "2022-11-26T12:44:29.622452Z",
     "start_time": "2022-11-26T12:44:29.606405Z"
    }
   },
   "outputs": [
    {
     "data": {
      "text/plain": [
       "[10, 10.5, True, 'Hello']"
      ]
     },
     "execution_count": 109,
     "metadata": {},
     "output_type": "execute_result"
    }
   ],
   "source": [
    "lst"
   ]
  },
  {
   "cell_type": "code",
   "execution_count": 110,
   "id": "623441d3",
   "metadata": {
    "ExecuteTime": {
     "end_time": "2022-11-26T12:44:29.638406Z",
     "start_time": "2022-11-26T12:44:29.622452Z"
    }
   },
   "outputs": [
    {
     "data": {
      "text/plain": [
       "'Hello'"
      ]
     },
     "execution_count": 110,
     "metadata": {},
     "output_type": "execute_result"
    }
   ],
   "source": [
    "#Accessing elements form a list\n",
    "lst[3]"
   ]
  },
  {
   "cell_type": "code",
   "execution_count": 111,
   "id": "1961c746",
   "metadata": {
    "ExecuteTime": {
     "end_time": "2022-11-26T12:44:29.654755Z",
     "start_time": "2022-11-26T12:44:29.638406Z"
    }
   },
   "outputs": [
    {
     "data": {
      "text/plain": [
       "[10.5, True]"
      ]
     },
     "execution_count": 111,
     "metadata": {},
     "output_type": "execute_result"
    }
   ],
   "source": [
    "lst[1:3]"
   ]
  },
  {
   "cell_type": "code",
   "execution_count": 112,
   "id": "e992136b",
   "metadata": {
    "ExecuteTime": {
     "end_time": "2022-11-26T12:44:29.670774Z",
     "start_time": "2022-11-26T12:44:29.654755Z"
    }
   },
   "outputs": [
    {
     "data": {
      "text/plain": [
       "'Hello'"
      ]
     },
     "execution_count": 112,
     "metadata": {},
     "output_type": "execute_result"
    }
   ],
   "source": [
    "lst[-1]"
   ]
  },
  {
   "cell_type": "code",
   "execution_count": 113,
   "id": "369f4ee3",
   "metadata": {
    "ExecuteTime": {
     "end_time": "2022-11-26T12:44:29.686765Z",
     "start_time": "2022-11-26T12:44:29.670774Z"
    }
   },
   "outputs": [],
   "source": [
    "#append"
   ]
  },
  {
   "cell_type": "code",
   "execution_count": 114,
   "id": "b092aacd",
   "metadata": {
    "ExecuteTime": {
     "end_time": "2022-11-26T12:44:29.702766Z",
     "start_time": "2022-11-26T12:44:29.686765Z"
    }
   },
   "outputs": [],
   "source": [
    "lst.append(1000)"
   ]
  },
  {
   "cell_type": "code",
   "execution_count": 115,
   "id": "e1dcfae1",
   "metadata": {
    "ExecuteTime": {
     "end_time": "2022-11-26T12:44:29.718771Z",
     "start_time": "2022-11-26T12:44:29.702766Z"
    }
   },
   "outputs": [
    {
     "data": {
      "text/plain": [
       "[10, 10.5, True, 'Hello', 1000]"
      ]
     },
     "execution_count": 115,
     "metadata": {},
     "output_type": "execute_result"
    }
   ],
   "source": [
    "lst"
   ]
  },
  {
   "cell_type": "code",
   "execution_count": 116,
   "id": "0384608d",
   "metadata": {
    "ExecuteTime": {
     "end_time": "2022-11-26T12:44:29.734790Z",
     "start_time": "2022-11-26T12:44:29.718771Z"
    }
   },
   "outputs": [],
   "source": [
    "#Count"
   ]
  },
  {
   "cell_type": "code",
   "execution_count": 117,
   "id": "5b255fae",
   "metadata": {
    "ExecuteTime": {
     "end_time": "2022-11-26T12:44:29.745529Z",
     "start_time": "2022-11-26T12:44:29.734790Z"
    }
   },
   "outputs": [
    {
     "data": {
      "text/plain": [
       "1"
      ]
     },
     "execution_count": 117,
     "metadata": {},
     "output_type": "execute_result"
    }
   ],
   "source": [
    "lst.count(1000)"
   ]
  },
  {
   "cell_type": "code",
   "execution_count": 118,
   "id": "3215e04a",
   "metadata": {
    "ExecuteTime": {
     "end_time": "2022-11-26T12:44:29.759121Z",
     "start_time": "2022-11-26T12:44:29.746597Z"
    }
   },
   "outputs": [
    {
     "data": {
      "text/plain": [
       "[10, 10.5, True, 'Hello', 1000]"
      ]
     },
     "execution_count": 118,
     "metadata": {},
     "output_type": "execute_result"
    }
   ],
   "source": [
    "lst"
   ]
  },
  {
   "cell_type": "code",
   "execution_count": 119,
   "id": "3a2a78ff",
   "metadata": {
    "ExecuteTime": {
     "end_time": "2022-11-26T12:44:29.775146Z",
     "start_time": "2022-11-26T12:44:29.759121Z"
    }
   },
   "outputs": [
    {
     "data": {
      "text/plain": [
       "0"
      ]
     },
     "execution_count": 119,
     "metadata": {},
     "output_type": "execute_result"
    }
   ],
   "source": [
    "lst.count(50)"
   ]
  },
  {
   "cell_type": "code",
   "execution_count": 120,
   "id": "a92e1456",
   "metadata": {
    "ExecuteTime": {
     "end_time": "2022-11-26T12:44:29.791165Z",
     "start_time": "2022-11-26T12:44:29.775146Z"
    }
   },
   "outputs": [],
   "source": [
    "#Index"
   ]
  },
  {
   "cell_type": "code",
   "execution_count": 121,
   "id": "6f2d7fd8",
   "metadata": {
    "ExecuteTime": {
     "end_time": "2022-11-26T12:44:29.801934Z",
     "start_time": "2022-11-26T12:44:29.791165Z"
    }
   },
   "outputs": [
    {
     "data": {
      "text/plain": [
       "1"
      ]
     },
     "execution_count": 121,
     "metadata": {},
     "output_type": "execute_result"
    }
   ],
   "source": [
    "lst.index(10.5)"
   ]
  },
  {
   "cell_type": "code",
   "execution_count": 122,
   "id": "832fac06",
   "metadata": {
    "ExecuteTime": {
     "end_time": "2022-11-26T12:44:29.815477Z",
     "start_time": "2022-11-26T12:44:29.801934Z"
    }
   },
   "outputs": [
    {
     "data": {
      "text/plain": [
       "[10, 10.5, True, 'Hello', 1000]"
      ]
     },
     "execution_count": 122,
     "metadata": {},
     "output_type": "execute_result"
    }
   ],
   "source": [
    "lst"
   ]
  },
  {
   "cell_type": "code",
   "execution_count": 123,
   "id": "5f84c32a",
   "metadata": {
    "ExecuteTime": {
     "end_time": "2022-11-26T12:44:29.831456Z",
     "start_time": "2022-11-26T12:44:29.815477Z"
    }
   },
   "outputs": [],
   "source": [
    "#Insert"
   ]
  },
  {
   "cell_type": "code",
   "execution_count": 124,
   "id": "bf747bf1",
   "metadata": {
    "ExecuteTime": {
     "end_time": "2022-11-26T12:44:29.847930Z",
     "start_time": "2022-11-26T12:44:29.831456Z"
    }
   },
   "outputs": [],
   "source": [
    "lst.insert(0,50)"
   ]
  },
  {
   "cell_type": "code",
   "execution_count": 125,
   "id": "77e16c6f",
   "metadata": {
    "ExecuteTime": {
     "end_time": "2022-11-26T12:44:29.863941Z",
     "start_time": "2022-11-26T12:44:29.847930Z"
    }
   },
   "outputs": [
    {
     "data": {
      "text/plain": [
       "[50, 10, 10.5, True, 'Hello', 1000]"
      ]
     },
     "execution_count": 125,
     "metadata": {},
     "output_type": "execute_result"
    }
   ],
   "source": [
    "lst"
   ]
  },
  {
   "cell_type": "code",
   "execution_count": 126,
   "id": "34189ff8",
   "metadata": {
    "ExecuteTime": {
     "end_time": "2022-11-26T12:44:29.876598Z",
     "start_time": "2022-11-26T12:44:29.863941Z"
    }
   },
   "outputs": [],
   "source": [
    "#pop"
   ]
  },
  {
   "cell_type": "code",
   "execution_count": 127,
   "id": "f8fa61cb",
   "metadata": {
    "ExecuteTime": {
     "end_time": "2022-11-26T12:44:29.896126Z",
     "start_time": "2022-11-26T12:44:29.876598Z"
    }
   },
   "outputs": [
    {
     "data": {
      "text/plain": [
       "1000"
      ]
     },
     "execution_count": 127,
     "metadata": {},
     "output_type": "execute_result"
    }
   ],
   "source": [
    "lst.pop()"
   ]
  },
  {
   "cell_type": "code",
   "execution_count": 128,
   "id": "762b0438",
   "metadata": {
    "ExecuteTime": {
     "end_time": "2022-11-26T12:44:29.912130Z",
     "start_time": "2022-11-26T12:44:29.904134Z"
    }
   },
   "outputs": [
    {
     "data": {
      "text/plain": [
       "[50, 10, 10.5, True, 'Hello']"
      ]
     },
     "execution_count": 128,
     "metadata": {},
     "output_type": "execute_result"
    }
   ],
   "source": [
    "lst"
   ]
  },
  {
   "cell_type": "code",
   "execution_count": 129,
   "id": "7d011812",
   "metadata": {
    "ExecuteTime": {
     "end_time": "2022-11-26T12:44:29.928133Z",
     "start_time": "2022-11-26T12:44:29.912130Z"
    }
   },
   "outputs": [],
   "source": [
    "#Reverse"
   ]
  },
  {
   "cell_type": "code",
   "execution_count": 130,
   "id": "e106f031",
   "metadata": {
    "ExecuteTime": {
     "end_time": "2022-11-26T12:44:29.944407Z",
     "start_time": "2022-11-26T12:44:29.928133Z"
    }
   },
   "outputs": [],
   "source": [
    "lst.reverse()"
   ]
  },
  {
   "cell_type": "code",
   "execution_count": 131,
   "id": "ad962064",
   "metadata": {
    "ExecuteTime": {
     "end_time": "2022-11-26T12:44:29.960427Z",
     "start_time": "2022-11-26T12:44:29.944407Z"
    }
   },
   "outputs": [
    {
     "data": {
      "text/plain": [
       "['Hello', True, 10.5, 10, 50]"
      ]
     },
     "execution_count": 131,
     "metadata": {},
     "output_type": "execute_result"
    }
   ],
   "source": [
    "lst"
   ]
  },
  {
   "cell_type": "code",
   "execution_count": 132,
   "id": "9199a3d8",
   "metadata": {
    "ExecuteTime": {
     "end_time": "2022-11-26T12:44:29.984747Z",
     "start_time": "2022-11-26T12:44:29.960427Z"
    }
   },
   "outputs": [],
   "source": [
    "#Remove"
   ]
  },
  {
   "cell_type": "code",
   "execution_count": 133,
   "id": "684e6c71",
   "metadata": {
    "ExecuteTime": {
     "end_time": "2022-11-26T12:44:30.000740Z",
     "start_time": "2022-11-26T12:44:29.984747Z"
    }
   },
   "outputs": [],
   "source": [
    "lst.remove(10.5)"
   ]
  },
  {
   "cell_type": "code",
   "execution_count": 134,
   "id": "f90e07c1",
   "metadata": {
    "ExecuteTime": {
     "end_time": "2022-11-26T12:44:30.016901Z",
     "start_time": "2022-11-26T12:44:30.000740Z"
    }
   },
   "outputs": [
    {
     "data": {
      "text/plain": [
       "['Hello', True, 10, 50]"
      ]
     },
     "execution_count": 134,
     "metadata": {},
     "output_type": "execute_result"
    }
   ],
   "source": [
    "lst"
   ]
  },
  {
   "cell_type": "code",
   "execution_count": 135,
   "id": "50393443",
   "metadata": {
    "ExecuteTime": {
     "end_time": "2022-11-26T12:44:30.032897Z",
     "start_time": "2022-11-26T12:44:30.016901Z"
    }
   },
   "outputs": [],
   "source": [
    "#Replacing elements in lists"
   ]
  },
  {
   "cell_type": "code",
   "execution_count": 136,
   "id": "ee86a26e",
   "metadata": {
    "ExecuteTime": {
     "end_time": "2022-11-26T12:44:30.049143Z",
     "start_time": "2022-11-26T12:44:30.035586Z"
    }
   },
   "outputs": [],
   "source": [
    "lst[1] = False"
   ]
  },
  {
   "cell_type": "code",
   "execution_count": 137,
   "id": "d398d9b4",
   "metadata": {
    "ExecuteTime": {
     "end_time": "2022-11-26T12:44:30.065908Z",
     "start_time": "2022-11-26T12:44:30.052601Z"
    }
   },
   "outputs": [
    {
     "data": {
      "text/plain": [
       "['Hello', False, 10, 50]"
      ]
     },
     "execution_count": 137,
     "metadata": {},
     "output_type": "execute_result"
    }
   ],
   "source": [
    "lst"
   ]
  },
  {
   "cell_type": "code",
   "execution_count": 138,
   "id": "a2c55928",
   "metadata": {
    "ExecuteTime": {
     "end_time": "2022-11-26T12:44:30.081921Z",
     "start_time": "2022-11-26T12:44:30.065908Z"
    }
   },
   "outputs": [],
   "source": [
    "lst[-1] = 5000"
   ]
  },
  {
   "cell_type": "code",
   "execution_count": 139,
   "id": "a47d1e7d",
   "metadata": {
    "ExecuteTime": {
     "end_time": "2022-11-26T12:44:30.097920Z",
     "start_time": "2022-11-26T12:44:30.081921Z"
    }
   },
   "outputs": [
    {
     "data": {
      "text/plain": [
       "['Hello', False, 10, 5000]"
      ]
     },
     "execution_count": 139,
     "metadata": {},
     "output_type": "execute_result"
    }
   ],
   "source": [
    "lst"
   ]
  },
  {
   "cell_type": "markdown",
   "id": "faddd4dc",
   "metadata": {},
   "source": [
    "## 2. Tuple\n",
    "\n",
    "* Tuples are ordered and hetrogenous data structure.\n",
    "* Tuples are immutable."
   ]
  },
  {
   "cell_type": "code",
   "execution_count": 140,
   "id": "5cd6bba0",
   "metadata": {
    "ExecuteTime": {
     "end_time": "2022-11-26T12:44:30.113918Z",
     "start_time": "2022-11-26T12:44:30.097920Z"
    }
   },
   "outputs": [],
   "source": [
    "#Create a tuple\n",
    "\n",
    "t = (10,1.2,'Hi',1000,15.2)"
   ]
  },
  {
   "cell_type": "code",
   "execution_count": 141,
   "id": "b79bfa7b",
   "metadata": {
    "ExecuteTime": {
     "end_time": "2022-11-26T12:44:30.130046Z",
     "start_time": "2022-11-26T12:44:30.117949Z"
    }
   },
   "outputs": [
    {
     "data": {
      "text/plain": [
       "tuple"
      ]
     },
     "execution_count": 141,
     "metadata": {},
     "output_type": "execute_result"
    }
   ],
   "source": [
    "type(t)"
   ]
  },
  {
   "cell_type": "code",
   "execution_count": 142,
   "id": "85f660ee",
   "metadata": {
    "ExecuteTime": {
     "end_time": "2022-11-26T12:44:30.145070Z",
     "start_time": "2022-11-26T12:44:30.130046Z"
    }
   },
   "outputs": [
    {
     "data": {
      "text/plain": [
       "(10, 1.2, 'Hi', 1000, 15.2)"
      ]
     },
     "execution_count": 142,
     "metadata": {},
     "output_type": "execute_result"
    }
   ],
   "source": [
    "t"
   ]
  },
  {
   "cell_type": "code",
   "execution_count": 143,
   "id": "83c864e0",
   "metadata": {
    "ExecuteTime": {
     "end_time": "2022-11-26T12:44:30.160195Z",
     "start_time": "2022-11-26T12:44:30.146582Z"
    }
   },
   "outputs": [
    {
     "data": {
      "text/plain": [
       "1"
      ]
     },
     "execution_count": 143,
     "metadata": {},
     "output_type": "execute_result"
    }
   ],
   "source": [
    "t.count(1000)"
   ]
  },
  {
   "cell_type": "code",
   "execution_count": 144,
   "id": "0b609b10",
   "metadata": {
    "ExecuteTime": {
     "end_time": "2022-11-26T12:44:30.170717Z",
     "start_time": "2022-11-26T12:44:30.162706Z"
    }
   },
   "outputs": [],
   "source": [
    "#Accessing elements from tuple"
   ]
  },
  {
   "cell_type": "code",
   "execution_count": 145,
   "id": "ba77b993",
   "metadata": {
    "ExecuteTime": {
     "end_time": "2022-11-26T12:44:30.186716Z",
     "start_time": "2022-11-26T12:44:30.170717Z"
    }
   },
   "outputs": [
    {
     "data": {
      "text/plain": [
       "15.2"
      ]
     },
     "execution_count": 145,
     "metadata": {},
     "output_type": "execute_result"
    }
   ],
   "source": [
    "t[4]"
   ]
  },
  {
   "cell_type": "code",
   "execution_count": 146,
   "id": "b610c1d3",
   "metadata": {
    "ExecuteTime": {
     "end_time": "2022-11-26T12:44:30.203178Z",
     "start_time": "2022-11-26T12:44:30.188359Z"
    }
   },
   "outputs": [
    {
     "data": {
      "text/plain": [
       "('Hi', 1000, 15.2)"
      ]
     },
     "execution_count": 146,
     "metadata": {},
     "output_type": "execute_result"
    }
   ],
   "source": [
    "t[2:]"
   ]
  },
  {
   "cell_type": "code",
   "execution_count": 147,
   "id": "55fcc69b",
   "metadata": {
    "ExecuteTime": {
     "end_time": "2022-11-26T12:44:30.219346Z",
     "start_time": "2022-11-26T12:44:30.204310Z"
    }
   },
   "outputs": [],
   "source": [
    "#Replacing elements "
   ]
  },
  {
   "cell_type": "code",
   "execution_count": 148,
   "id": "3fea85cd",
   "metadata": {
    "ExecuteTime": {
     "end_time": "2022-11-26T12:44:30.235356Z",
     "start_time": "2022-11-26T12:44:30.219346Z"
    }
   },
   "outputs": [
    {
     "data": {
      "text/plain": [
       "(10, 1.2, 'Hi', 1000, 15.2)"
      ]
     },
     "execution_count": 148,
     "metadata": {},
     "output_type": "execute_result"
    }
   ],
   "source": [
    "t"
   ]
  },
  {
   "cell_type": "code",
   "execution_count": 149,
   "id": "5f73fb85",
   "metadata": {
    "ExecuteTime": {
     "end_time": "2022-11-26T12:44:30.260069Z",
     "start_time": "2022-11-26T12:44:30.237747Z"
    }
   },
   "outputs": [
    {
     "ename": "TypeError",
     "evalue": "'tuple' object does not support item assignment",
     "output_type": "error",
     "traceback": [
      "\u001b[1;31m---------------------------------------------------------------------------\u001b[0m",
      "\u001b[1;31mTypeError\u001b[0m                                 Traceback (most recent call last)",
      "\u001b[1;32m~\\AppData\\Local\\Temp\\ipykernel_23536\\3492199082.py\u001b[0m in \u001b[0;36m<module>\u001b[1;34m\u001b[0m\n\u001b[1;32m----> 1\u001b[1;33m \u001b[0mt\u001b[0m\u001b[1;33m[\u001b[0m\u001b[1;36m4\u001b[0m\u001b[1;33m]\u001b[0m \u001b[1;33m=\u001b[0m \u001b[1;36m200\u001b[0m\u001b[1;33m\u001b[0m\u001b[1;33m\u001b[0m\u001b[0m\n\u001b[0m",
      "\u001b[1;31mTypeError\u001b[0m: 'tuple' object does not support item assignment"
     ]
    }
   ],
   "source": [
    "t[4] = 200"
   ]
  },
  {
   "cell_type": "code",
   "execution_count": 150,
   "id": "fb118b7d",
   "metadata": {
    "ExecuteTime": {
     "end_time": "2022-11-26T12:45:15.531759Z",
     "start_time": "2022-11-26T12:45:15.516105Z"
    }
   },
   "outputs": [
    {
     "data": {
      "text/plain": [
       "(10, 1.2, 'Hi', 1000, 15.2)"
      ]
     },
     "execution_count": 150,
     "metadata": {},
     "output_type": "execute_result"
    }
   ],
   "source": [
    "t"
   ]
  },
  {
   "cell_type": "code",
   "execution_count": 151,
   "id": "672ca680",
   "metadata": {
    "ExecuteTime": {
     "end_time": "2022-11-26T12:45:15.547777Z",
     "start_time": "2022-11-26T12:45:15.531759Z"
    }
   },
   "outputs": [],
   "source": [
    "t = list(t)"
   ]
  },
  {
   "cell_type": "code",
   "execution_count": 152,
   "id": "e118c85f",
   "metadata": {
    "ExecuteTime": {
     "end_time": "2022-11-26T12:45:15.563907Z",
     "start_time": "2022-11-26T12:45:15.547777Z"
    }
   },
   "outputs": [
    {
     "data": {
      "text/plain": [
       "list"
      ]
     },
     "execution_count": 152,
     "metadata": {},
     "output_type": "execute_result"
    }
   ],
   "source": [
    "type(t)"
   ]
  },
  {
   "cell_type": "code",
   "execution_count": 153,
   "id": "303da7e4",
   "metadata": {
    "ExecuteTime": {
     "end_time": "2022-11-26T12:45:15.580097Z",
     "start_time": "2022-11-26T12:45:15.567067Z"
    }
   },
   "outputs": [],
   "source": [
    "t[4] = 200"
   ]
  },
  {
   "cell_type": "code",
   "execution_count": 154,
   "id": "aed5963a",
   "metadata": {
    "ExecuteTime": {
     "end_time": "2022-11-26T12:45:15.596098Z",
     "start_time": "2022-11-26T12:45:15.580097Z"
    }
   },
   "outputs": [
    {
     "data": {
      "text/plain": [
       "[10, 1.2, 'Hi', 1000, 200]"
      ]
     },
     "execution_count": 154,
     "metadata": {},
     "output_type": "execute_result"
    }
   ],
   "source": [
    "t"
   ]
  },
  {
   "cell_type": "code",
   "execution_count": 155,
   "id": "8826ebd0",
   "metadata": {
    "ExecuteTime": {
     "end_time": "2022-11-26T12:45:15.607165Z",
     "start_time": "2022-11-26T12:45:15.596098Z"
    }
   },
   "outputs": [],
   "source": [
    "t = tuple(t)"
   ]
  },
  {
   "cell_type": "code",
   "execution_count": 156,
   "id": "1539a13d",
   "metadata": {
    "ExecuteTime": {
     "end_time": "2022-11-26T12:45:15.620295Z",
     "start_time": "2022-11-26T12:45:15.608272Z"
    }
   },
   "outputs": [
    {
     "data": {
      "text/plain": [
       "(10, 1.2, 'Hi', 1000, 200)"
      ]
     },
     "execution_count": 156,
     "metadata": {},
     "output_type": "execute_result"
    }
   ],
   "source": [
    "t"
   ]
  },
  {
   "cell_type": "code",
   "execution_count": 157,
   "id": "188e0451",
   "metadata": {
    "ExecuteTime": {
     "end_time": "2022-11-26T12:45:15.644016Z",
     "start_time": "2022-11-26T12:45:15.620295Z"
    }
   },
   "outputs": [
    {
     "data": {
      "text/plain": [
       "tuple"
      ]
     },
     "execution_count": 157,
     "metadata": {},
     "output_type": "execute_result"
    }
   ],
   "source": [
    "type(t)"
   ]
  },
  {
   "cell_type": "markdown",
   "id": "5ecd0561",
   "metadata": {},
   "source": [
    "## 3. Dictionary\n",
    "\n",
    "* Python dictionaries are orderded collection of items.\n",
    "* Dictionary is mutable data structure.\n",
    "* It has key and value pair."
   ]
  },
  {
   "cell_type": "code",
   "execution_count": 158,
   "id": "ad4427c2",
   "metadata": {
    "ExecuteTime": {
     "end_time": "2022-11-26T12:45:15.659862Z",
     "start_time": "2022-11-26T12:45:15.644016Z"
    }
   },
   "outputs": [],
   "source": [
    "#Creating an empty dictionary"
   ]
  },
  {
   "cell_type": "code",
   "execution_count": 159,
   "id": "d6a45bc6",
   "metadata": {
    "ExecuteTime": {
     "end_time": "2022-11-26T12:45:15.675952Z",
     "start_time": "2022-11-26T12:45:15.659862Z"
    }
   },
   "outputs": [
    {
     "data": {
      "text/plain": [
       "dict"
      ]
     },
     "execution_count": 159,
     "metadata": {},
     "output_type": "execute_result"
    }
   ],
   "source": [
    "d = {}\n",
    "type(d)"
   ]
  },
  {
   "cell_type": "code",
   "execution_count": 160,
   "id": "e87c4742",
   "metadata": {
    "ExecuteTime": {
     "end_time": "2022-11-26T12:45:15.691936Z",
     "start_time": "2022-11-26T12:45:15.675952Z"
    }
   },
   "outputs": [
    {
     "data": {
      "text/plain": [
       "dict"
      ]
     },
     "execution_count": 160,
     "metadata": {},
     "output_type": "execute_result"
    }
   ],
   "source": [
    "d1 = dict()\n",
    "type(d1)"
   ]
  },
  {
   "cell_type": "code",
   "execution_count": 161,
   "id": "9e99155a",
   "metadata": {
    "ExecuteTime": {
     "end_time": "2022-11-26T12:45:15.708038Z",
     "start_time": "2022-11-26T12:45:15.691936Z"
    }
   },
   "outputs": [],
   "source": [
    "#Adding elements in a dictionary"
   ]
  },
  {
   "cell_type": "code",
   "execution_count": 162,
   "id": "8d2d12f9",
   "metadata": {
    "ExecuteTime": {
     "end_time": "2022-11-26T12:45:15.719225Z",
     "start_time": "2022-11-26T12:45:15.708038Z"
    }
   },
   "outputs": [],
   "source": [
    "d = {1:10,2:'A',3:True}"
   ]
  },
  {
   "cell_type": "code",
   "execution_count": 163,
   "id": "63dbaabf",
   "metadata": {
    "ExecuteTime": {
     "end_time": "2022-11-26T12:45:15.732114Z",
     "start_time": "2022-11-26T12:45:15.724108Z"
    }
   },
   "outputs": [
    {
     "data": {
      "text/plain": [
       "{1: 10, 2: 'A', 3: True}"
      ]
     },
     "execution_count": 163,
     "metadata": {},
     "output_type": "execute_result"
    }
   ],
   "source": [
    "d"
   ]
  },
  {
   "cell_type": "code",
   "execution_count": 164,
   "id": "0ae05583",
   "metadata": {
    "ExecuteTime": {
     "end_time": "2022-11-26T12:45:15.748492Z",
     "start_time": "2022-11-26T12:45:15.734942Z"
    }
   },
   "outputs": [],
   "source": [
    "#get"
   ]
  },
  {
   "cell_type": "code",
   "execution_count": 165,
   "id": "65bffcac",
   "metadata": {
    "ExecuteTime": {
     "end_time": "2022-11-26T12:45:15.764690Z",
     "start_time": "2022-11-26T12:45:15.750167Z"
    }
   },
   "outputs": [
    {
     "data": {
      "text/plain": [
       "'A'"
      ]
     },
     "execution_count": 165,
     "metadata": {},
     "output_type": "execute_result"
    }
   ],
   "source": [
    "d.get(2)"
   ]
  },
  {
   "cell_type": "code",
   "execution_count": 166,
   "id": "3902cd34",
   "metadata": {
    "ExecuteTime": {
     "end_time": "2022-11-26T12:45:15.781433Z",
     "start_time": "2022-11-26T12:45:15.764690Z"
    }
   },
   "outputs": [],
   "source": [
    "#Items"
   ]
  },
  {
   "cell_type": "code",
   "execution_count": 167,
   "id": "3fefa3b2",
   "metadata": {
    "ExecuteTime": {
     "end_time": "2022-11-26T12:45:15.797616Z",
     "start_time": "2022-11-26T12:45:15.782062Z"
    }
   },
   "outputs": [
    {
     "data": {
      "text/plain": [
       "dict_items([(1, 10), (2, 'A'), (3, True)])"
      ]
     },
     "execution_count": 167,
     "metadata": {},
     "output_type": "execute_result"
    }
   ],
   "source": [
    "d.items()"
   ]
  },
  {
   "cell_type": "code",
   "execution_count": 168,
   "id": "15879042",
   "metadata": {
    "ExecuteTime": {
     "end_time": "2022-11-26T12:45:15.813632Z",
     "start_time": "2022-11-26T12:45:15.797616Z"
    }
   },
   "outputs": [],
   "source": [
    "#keys"
   ]
  },
  {
   "cell_type": "code",
   "execution_count": 169,
   "id": "1eaf17e4",
   "metadata": {
    "ExecuteTime": {
     "end_time": "2022-11-26T12:45:15.829624Z",
     "start_time": "2022-11-26T12:45:15.813632Z"
    }
   },
   "outputs": [
    {
     "data": {
      "text/plain": [
       "dict_keys([1, 2, 3])"
      ]
     },
     "execution_count": 169,
     "metadata": {},
     "output_type": "execute_result"
    }
   ],
   "source": [
    "d.keys()"
   ]
  },
  {
   "cell_type": "code",
   "execution_count": 170,
   "id": "16c4d401",
   "metadata": {
    "ExecuteTime": {
     "end_time": "2022-11-26T12:45:15.846148Z",
     "start_time": "2022-11-26T12:45:15.829624Z"
    }
   },
   "outputs": [],
   "source": [
    "#Adding values in dictionary (Update)"
   ]
  },
  {
   "cell_type": "code",
   "execution_count": 171,
   "id": "2fe819d9",
   "metadata": {
    "ExecuteTime": {
     "end_time": "2022-11-26T12:45:15.870665Z",
     "start_time": "2022-11-26T12:45:15.846148Z"
    }
   },
   "outputs": [],
   "source": [
    "d.update({'car':'bmw'})"
   ]
  },
  {
   "cell_type": "code",
   "execution_count": 172,
   "id": "0c491696",
   "metadata": {
    "ExecuteTime": {
     "end_time": "2022-11-26T12:45:15.886666Z",
     "start_time": "2022-11-26T12:45:15.870665Z"
    }
   },
   "outputs": [
    {
     "data": {
      "text/plain": [
       "{1: 10, 2: 'A', 3: True, 'car': 'bmw'}"
      ]
     },
     "execution_count": 172,
     "metadata": {},
     "output_type": "execute_result"
    }
   ],
   "source": [
    "d"
   ]
  },
  {
   "cell_type": "code",
   "execution_count": 173,
   "id": "e70e5096",
   "metadata": {
    "ExecuteTime": {
     "end_time": "2022-11-26T12:45:15.896105Z",
     "start_time": "2022-11-26T12:45:15.886666Z"
    }
   },
   "outputs": [],
   "source": [
    "#pop"
   ]
  },
  {
   "cell_type": "code",
   "execution_count": 174,
   "id": "995e1e29",
   "metadata": {
    "ExecuteTime": {
     "end_time": "2022-11-26T12:45:15.911136Z",
     "start_time": "2022-11-26T12:45:15.896105Z"
    }
   },
   "outputs": [
    {
     "data": {
      "text/plain": [
       "True"
      ]
     },
     "execution_count": 174,
     "metadata": {},
     "output_type": "execute_result"
    }
   ],
   "source": [
    "d.pop(3)"
   ]
  },
  {
   "cell_type": "code",
   "execution_count": 175,
   "id": "2b2df02e",
   "metadata": {
    "ExecuteTime": {
     "end_time": "2022-11-26T12:45:15.927131Z",
     "start_time": "2022-11-26T12:45:15.911136Z"
    }
   },
   "outputs": [
    {
     "data": {
      "text/plain": [
       "{1: 10, 2: 'A', 'car': 'bmw'}"
      ]
     },
     "execution_count": 175,
     "metadata": {},
     "output_type": "execute_result"
    }
   ],
   "source": [
    "d"
   ]
  },
  {
   "cell_type": "code",
   "execution_count": 176,
   "id": "fe85f976",
   "metadata": {
    "ExecuteTime": {
     "end_time": "2022-11-26T12:45:15.938968Z",
     "start_time": "2022-11-26T12:45:15.927131Z"
    }
   },
   "outputs": [],
   "source": [
    "#Values"
   ]
  },
  {
   "cell_type": "code",
   "execution_count": 177,
   "id": "621fa04b",
   "metadata": {
    "ExecuteTime": {
     "end_time": "2022-11-26T12:45:15.967955Z",
     "start_time": "2022-11-26T12:45:15.943520Z"
    }
   },
   "outputs": [
    {
     "data": {
      "text/plain": [
       "dict_values([10, 'A', 'bmw'])"
      ]
     },
     "execution_count": 177,
     "metadata": {},
     "output_type": "execute_result"
    }
   ],
   "source": [
    "d.values()"
   ]
  },
  {
   "cell_type": "markdown",
   "id": "45f2c90e",
   "metadata": {},
   "source": [
    "## 4. Set\n",
    "\n",
    "* Set is a collection which is unordered, unindexed.\n",
    "* Set is immutable.\n",
    "* Sets are unordered, so you cannot be sure in which order the items will appear.\n",
    "* Sets do not allow duplicate values.\n",
    "* Once a set is created, you cannot change its items, but you can remove items and add new items.\n",
    "* As sets are unordered, they do not support indexing and slicing operations."
   ]
  },
  {
   "cell_type": "code",
   "execution_count": 178,
   "id": "47ea2eb5",
   "metadata": {
    "ExecuteTime": {
     "end_time": "2022-11-26T12:45:15.983948Z",
     "start_time": "2022-11-26T12:45:15.967955Z"
    }
   },
   "outputs": [],
   "source": [
    "#Creating an empty set"
   ]
  },
  {
   "cell_type": "code",
   "execution_count": 179,
   "id": "66d3d569",
   "metadata": {
    "ExecuteTime": {
     "end_time": "2022-11-26T12:45:16.000076Z",
     "start_time": "2022-11-26T12:45:15.983948Z"
    }
   },
   "outputs": [
    {
     "data": {
      "text/plain": [
       "{1, 10.5, 2, 3, 'A'}"
      ]
     },
     "execution_count": 179,
     "metadata": {},
     "output_type": "execute_result"
    }
   ],
   "source": [
    "s = {1,2,3,10.5,'A'}\n",
    "type(s)\n",
    "s"
   ]
  },
  {
   "cell_type": "code",
   "execution_count": 180,
   "id": "be1605b8",
   "metadata": {
    "ExecuteTime": {
     "end_time": "2022-11-26T12:45:16.016095Z",
     "start_time": "2022-11-26T12:45:16.000076Z"
    }
   },
   "outputs": [],
   "source": [
    "#Does not allow duplicate items"
   ]
  },
  {
   "cell_type": "code",
   "execution_count": 181,
   "id": "5a6f1c9c",
   "metadata": {
    "ExecuteTime": {
     "end_time": "2022-11-26T12:45:16.040093Z",
     "start_time": "2022-11-26T12:45:16.016095Z"
    }
   },
   "outputs": [
    {
     "data": {
      "text/plain": [
       "{1, 2, 3, 4, 5}"
      ]
     },
     "execution_count": 181,
     "metadata": {},
     "output_type": "execute_result"
    }
   ],
   "source": [
    "s1 = {1,1,2,3,4,5}\n",
    "s1"
   ]
  },
  {
   "cell_type": "code",
   "execution_count": 182,
   "id": "1f5f1127",
   "metadata": {
    "ExecuteTime": {
     "end_time": "2022-11-26T12:45:16.056092Z",
     "start_time": "2022-11-26T12:45:16.040093Z"
    }
   },
   "outputs": [
    {
     "data": {
      "text/plain": [
       "{1, 10.5, 2, 3, 'A'}"
      ]
     },
     "execution_count": 182,
     "metadata": {},
     "output_type": "execute_result"
    }
   ],
   "source": [
    "s"
   ]
  },
  {
   "cell_type": "code",
   "execution_count": 183,
   "id": "cfb50173",
   "metadata": {
    "ExecuteTime": {
     "end_time": "2022-11-26T12:45:16.072106Z",
     "start_time": "2022-11-26T12:45:16.056092Z"
    }
   },
   "outputs": [],
   "source": [
    "#Does not support indexing"
   ]
  },
  {
   "cell_type": "code",
   "execution_count": 184,
   "id": "ac9a84eb",
   "metadata": {
    "ExecuteTime": {
     "end_time": "2022-11-26T12:45:16.088909Z",
     "start_time": "2022-11-26T12:45:16.072106Z"
    }
   },
   "outputs": [
    {
     "ename": "TypeError",
     "evalue": "'set' object is not subscriptable",
     "output_type": "error",
     "traceback": [
      "\u001b[1;31m---------------------------------------------------------------------------\u001b[0m",
      "\u001b[1;31mTypeError\u001b[0m                                 Traceback (most recent call last)",
      "\u001b[1;32m~\\AppData\\Local\\Temp\\ipykernel_23536\\878419959.py\u001b[0m in \u001b[0;36m<module>\u001b[1;34m\u001b[0m\n\u001b[1;32m----> 1\u001b[1;33m \u001b[0ms\u001b[0m\u001b[1;33m[\u001b[0m\u001b[1;36m1\u001b[0m\u001b[1;33m]\u001b[0m\u001b[1;33m\u001b[0m\u001b[1;33m\u001b[0m\u001b[0m\n\u001b[0m",
      "\u001b[1;31mTypeError\u001b[0m: 'set' object is not subscriptable"
     ]
    }
   ],
   "source": [
    "s[1]"
   ]
  },
  {
   "cell_type": "code",
   "execution_count": 185,
   "id": "4a2725fb",
   "metadata": {
    "ExecuteTime": {
     "end_time": "2022-11-26T12:45:22.435242Z",
     "start_time": "2022-11-26T12:45:22.410936Z"
    }
   },
   "outputs": [],
   "source": [
    "#Add"
   ]
  },
  {
   "cell_type": "code",
   "execution_count": 186,
   "id": "e8296d3a",
   "metadata": {
    "ExecuteTime": {
     "end_time": "2022-11-26T12:45:26.239870Z",
     "start_time": "2022-11-26T12:45:26.221522Z"
    }
   },
   "outputs": [
    {
     "data": {
      "text/plain": [
       "{1, 10.5, 100, 2, 3, 'A'}"
      ]
     },
     "execution_count": 186,
     "metadata": {},
     "output_type": "execute_result"
    }
   ],
   "source": [
    "s.add(100)\n",
    "s"
   ]
  },
  {
   "cell_type": "code",
   "execution_count": 187,
   "id": "cb0b8467",
   "metadata": {
    "ExecuteTime": {
     "end_time": "2022-11-26T12:45:27.486322Z",
     "start_time": "2022-11-26T12:45:27.461982Z"
    }
   },
   "outputs": [],
   "source": [
    "a = {'apple','mango','cherry'}\n",
    "b = {'microsoft','google','cherry'}"
   ]
  },
  {
   "cell_type": "code",
   "execution_count": 188,
   "id": "201d156e",
   "metadata": {
    "ExecuteTime": {
     "end_time": "2022-11-26T12:45:28.951388Z",
     "start_time": "2022-11-26T12:45:28.927345Z"
    }
   },
   "outputs": [],
   "source": [
    "#Difference"
   ]
  },
  {
   "cell_type": "code",
   "execution_count": 189,
   "id": "11b37f41",
   "metadata": {
    "ExecuteTime": {
     "end_time": "2022-11-26T12:45:30.908551Z",
     "start_time": "2022-11-26T12:45:30.883921Z"
    }
   },
   "outputs": [
    {
     "data": {
      "text/plain": [
       "{'apple', 'mango'}"
      ]
     },
     "execution_count": 189,
     "metadata": {},
     "output_type": "execute_result"
    }
   ],
   "source": [
    "a.difference(b)"
   ]
  },
  {
   "cell_type": "code",
   "execution_count": 190,
   "id": "fcc06f86",
   "metadata": {
    "ExecuteTime": {
     "end_time": "2022-11-26T12:45:31.824921Z",
     "start_time": "2022-11-26T12:45:31.804011Z"
    }
   },
   "outputs": [
    {
     "data": {
      "text/plain": [
       "{'google', 'microsoft'}"
      ]
     },
     "execution_count": 190,
     "metadata": {},
     "output_type": "execute_result"
    }
   ],
   "source": [
    "b.difference(a)"
   ]
  },
  {
   "cell_type": "code",
   "execution_count": 191,
   "id": "692d3fd4",
   "metadata": {
    "ExecuteTime": {
     "end_time": "2022-11-26T12:45:32.913884Z",
     "start_time": "2022-11-26T12:45:32.892691Z"
    }
   },
   "outputs": [],
   "source": [
    "#Intersection"
   ]
  },
  {
   "cell_type": "code",
   "execution_count": 193,
   "id": "7007ca0b",
   "metadata": {
    "ExecuteTime": {
     "end_time": "2022-11-26T12:45:36.374504Z",
     "start_time": "2022-11-26T12:45:36.352695Z"
    }
   },
   "outputs": [
    {
     "data": {
      "text/plain": [
       "{'cherry'}"
      ]
     },
     "execution_count": 193,
     "metadata": {},
     "output_type": "execute_result"
    }
   ],
   "source": [
    "a.intersection(b)"
   ]
  },
  {
   "cell_type": "code",
   "execution_count": 194,
   "id": "3d74ca76",
   "metadata": {
    "ExecuteTime": {
     "end_time": "2022-11-26T12:45:38.199444Z",
     "start_time": "2022-11-26T12:45:38.174838Z"
    }
   },
   "outputs": [],
   "source": [
    "#Union"
   ]
  },
  {
   "cell_type": "code",
   "execution_count": 195,
   "id": "be3049e2",
   "metadata": {
    "ExecuteTime": {
     "end_time": "2022-11-26T12:45:40.415916Z",
     "start_time": "2022-11-26T12:45:40.399776Z"
    }
   },
   "outputs": [
    {
     "data": {
      "text/plain": [
       "{'apple', 'cherry', 'google', 'mango', 'microsoft'}"
      ]
     },
     "execution_count": 195,
     "metadata": {},
     "output_type": "execute_result"
    }
   ],
   "source": [
    "a.union(b)"
   ]
  },
  {
   "cell_type": "code",
   "execution_count": 196,
   "id": "01d9dd49",
   "metadata": {
    "ExecuteTime": {
     "end_time": "2022-11-26T12:45:41.449987Z",
     "start_time": "2022-11-26T12:45:41.425724Z"
    }
   },
   "outputs": [],
   "source": [
    "#pop"
   ]
  },
  {
   "cell_type": "code",
   "execution_count": 197,
   "id": "6d6d5079",
   "metadata": {
    "ExecuteTime": {
     "end_time": "2022-11-26T12:45:42.353544Z",
     "start_time": "2022-11-26T12:45:42.329024Z"
    }
   },
   "outputs": [
    {
     "data": {
      "text/plain": [
       "'apple'"
      ]
     },
     "execution_count": 197,
     "metadata": {},
     "output_type": "execute_result"
    }
   ],
   "source": [
    "a.pop()"
   ]
  },
  {
   "cell_type": "code",
   "execution_count": null,
   "id": "b27108d7",
   "metadata": {},
   "outputs": [],
   "source": []
  }
 ],
 "metadata": {
  "kernelspec": {
   "display_name": "Python 3 (ipykernel)",
   "language": "python",
   "name": "python3"
  },
  "language_info": {
   "codemirror_mode": {
    "name": "ipython",
    "version": 3
   },
   "file_extension": ".py",
   "mimetype": "text/x-python",
   "name": "python",
   "nbconvert_exporter": "python",
   "pygments_lexer": "ipython3",
   "version": "3.9.13"
  }
 },
 "nbformat": 4,
 "nbformat_minor": 5
}
